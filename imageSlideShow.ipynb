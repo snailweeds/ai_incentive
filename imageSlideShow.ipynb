{
 "cells": [
  {
   "cell_type": "code",
   "execution_count": 1,
   "id": "d94b3fbd",
   "metadata": {},
   "outputs": [],
   "source": [
    "import sys\n",
    "import glob\n",
    "import cv2\n",
    "\n",
    "\n",
    "# 이미지 파일을 모두 img_files 리스트에 추가\n",
    "img_files = glob.glob('.\\\\images\\\\*.jpg')\n",
    "\n",
    "if not img_files:\n",
    "    print(\"There are no jpg files in 'images' folder\")\n",
    "    sys.exit()\n",
    "\n",
    "# 전체 화면으로 'image' 창 생성\n",
    "cv2.namedWindow('image', cv2.WINDOW_NORMAL)\n",
    "cv2.setWindowProperty('image', cv2.WND_PROP_FULLSCREEN, cv2.WINDOW_FULLSCREEN)\n",
    "\n",
    "# 무한 루프\n",
    "cnt = len(img_files)\n",
    "idx = 0\n",
    "\n",
    "while True:\n",
    "    img = cv2.imread(img_files[idx])\n",
    "\n",
    "    if img is None:\n",
    "        print('Image load failed!')\n",
    "        break\n",
    "\n",
    "    cv2.imshow('image', img)\n",
    "    if cv2.waitKey(1000) >= 0:\n",
    "        break\n",
    "\n",
    "    idx += 1\n",
    "    if idx >= cnt:\n",
    "        idx = 0\n",
    "\n",
    "cv2.destroyAllWindows()\n"
   ]
  }
 ],
 "metadata": {
  "kernelspec": {
   "display_name": "Python 3",
   "language": "python",
   "name": "python3"
  },
  "language_info": {
   "codemirror_mode": {
    "name": "ipython",
    "version": 3
   },
   "file_extension": ".py",
   "mimetype": "text/x-python",
   "name": "python",
   "nbconvert_exporter": "python",
   "pygments_lexer": "ipython3",
   "version": "3.8.8"
  },
  "toc": {
   "base_numbering": 1,
   "nav_menu": {},
   "number_sections": true,
   "sideBar": true,
   "skip_h1_title": false,
   "title_cell": "Table of Contents",
   "title_sidebar": "Contents",
   "toc_cell": false,
   "toc_position": {},
   "toc_section_display": true,
   "toc_window_display": false
  }
 },
 "nbformat": 4,
 "nbformat_minor": 5
}
