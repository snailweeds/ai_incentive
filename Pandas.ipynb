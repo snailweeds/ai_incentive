{
 "cells": [
  {
   "cell_type": "code",
   "execution_count": 27,
   "id": "packed-armenia",
   "metadata": {},
   "outputs": [],
   "source": [
    "import pandas as pd\n",
    "import numpy as np"
   ]
  },
  {
   "cell_type": "code",
   "execution_count": 3,
   "id": "professional-giant",
   "metadata": {},
   "outputs": [
    {
     "name": "stdout",
     "output_type": "stream",
     "text": [
      "<class 'pandas.core.series.Series'>\n",
      "\n",
      "\n",
      "a    1\n",
      "b    2\n",
      "c    3\n",
      "dtype: int64\n"
     ]
    }
   ],
   "source": [
    "dict_data = {\"a\":1, \"b\":2, \"c\":3}\n",
    "sr = pd.Series(dict_data)\n",
    "print(type(sr))\n",
    "print(\"\\n\")\n",
    "print(sr)"
   ]
  },
  {
   "cell_type": "code",
   "execution_count": 4,
   "id": "ongoing-tribe",
   "metadata": {},
   "outputs": [
    {
     "name": "stdout",
     "output_type": "stream",
     "text": [
      "0    2019-01-02\n",
      "1          3.14\n",
      "2           ABC\n",
      "3           100\n",
      "4          True\n",
      "dtype: object\n",
      "RangeIndex(start=0, stop=5, step=1) \n",
      " ['2019-01-02' 3.14 'ABC' 100 True]\n"
     ]
    }
   ],
   "source": [
    "list_data = [\"2019-01-02\", 3.14, \"ABC\", 100, True]\n",
    "sr = pd.Series(list_data)\n",
    "print(sr)\n",
    "idx = sr.index\n",
    "val = sr.values\n",
    "print(idx, \"\\n\", val)"
   ]
  },
  {
   "cell_type": "code",
   "execution_count": 6,
   "id": "headed-mitchell",
   "metadata": {},
   "outputs": [
    {
     "name": "stdout",
     "output_type": "stream",
     "text": [
      "이름              민수\n",
      "생년월일    2017-04-08\n",
      "성별               여\n",
      "학생여부          True\n",
      "dtype: object\n",
      "민수\n",
      "민수\n",
      "생년월일    2017-04-08\n",
      "성별               여\n",
      "dtype: object\n",
      "\n",
      "\n",
      "생년월일    2017-04-08\n",
      "성별               여\n",
      "dtype: object\n",
      "생년월일    2017-04-08\n",
      "성별               여\n",
      "학생여부          True\n",
      "dtype: object\n",
      "\n",
      "\n",
      "생년월일    2017-04-08\n",
      "성별               여\n",
      "학생여부          True\n",
      "dtype: object\n"
     ]
    }
   ],
   "source": [
    "tup_data = (\"민수\", \"2017-04-08\", \"여\", True)\n",
    "sr = pd.Series(tup_data, index=[\"이름\", \"생년월일\", \"성별\", \"학생여부\"])\n",
    "print(sr)\n",
    "print(sr[0])\n",
    "print(sr[\"이름\"])\n",
    "print(sr[[1, 2]])\n",
    "print(\"\\n\")\n",
    "print(sr[[\"생년월일\", \"성별\"]])\n",
    "print(sr[1:])\n",
    "print(\"\\n\")\n",
    "print(sr[\"생년월일\": \"학생여부\"])"
   ]
  },
  {
   "cell_type": "code",
   "execution_count": 7,
   "id": "affiliated-party",
   "metadata": {},
   "outputs": [
    {
     "name": "stdout",
     "output_type": "stream",
     "text": [
      "    나이 성별   학교\n",
      "준서  15  남  덕영중\n",
      "예은  17  여  수리중 Index(['준서', '예은'], dtype='object') Index(['나이', '성별', '학교'], dtype='object')\n"
     ]
    }
   ],
   "source": [
    "df = pd.DataFrame([[15, \"남\", \"덕영중\"], [17, \"여\", \"수리중\"]],\n",
    "                 index=[\"준서\", \"예은\"],\n",
    "                 columns=[\"나이\", \"성별\", \"학교\"])\n",
    "\n",
    "print(df, df.index, df.columns)"
   ]
  },
  {
   "cell_type": "code",
   "execution_count": 8,
   "id": "opposite-costs",
   "metadata": {},
   "outputs": [
    {
     "name": "stdout",
     "output_type": "stream",
     "text": [
      "     연령 남녀   소속\n",
      "학생1  15  남  덕영중\n",
      "학생2  17  여  수리중\n"
     ]
    }
   ],
   "source": [
    "df = pd.DataFrame([[15, \"남\", \"덕영중\"], [17, \"여\", \"수리중\"]],\n",
    "                 index=[\"준서\", \"예은\"],\n",
    "                 columns=[\"나이\", \"성별\", \"학교\"])\n",
    "df.rename(columns={\"나이\":\"연령\", \"성별\":\"남녀\", \"학교\":\"소속\"}, inplace=True)\n",
    "\n",
    "df.rename(index={\"준서\":\"학생1\", \"예은\":\"학생2\" }, inplace=True)\n",
    "\n",
    "print(df)"
   ]
  },
  {
   "cell_type": "code",
   "execution_count": 10,
   "id": "international-beauty",
   "metadata": {},
   "outputs": [
    {
     "name": "stdout",
     "output_type": "stream",
     "text": [
      "    math  eng  music  gym\n",
      "서준    90   98     85  100\n",
      "우현    80   89     95   90\n",
      "민아    70   95    100   90\n",
      "    math  eng  music  gym\n",
      "서준    90   98     85  100\n",
      "민아    70   95    100   90\n",
      "    math  eng  music  gym\n",
      "서준    90   98     85  100\n"
     ]
    }
   ],
   "source": [
    "exam_data = {\"math\": [90, 80, 70], \"eng\": [98, 89, 95],\n",
    "            \"music\": [85, 95, 100], \"gym\": [100, 90, 90]}\n",
    "df = pd.DataFrame(exam_data, index=[\"서준\", \"우현\", \"민아\"])\n",
    "print(df)\n",
    "df2 = df.copy()\n",
    "df2.drop(\"우현\", axis=0, inplace=True)\n",
    "print(df2)\n",
    "df3 = df.copy()\n",
    "df3.drop([\"우현\", \"민아\"], axis=0, inplace=True)\n",
    "print(df3)"
   ]
  },
  {
   "cell_type": "code",
   "execution_count": 12,
   "id": "documented-century",
   "metadata": {},
   "outputs": [
    {
     "name": "stdout",
     "output_type": "stream",
     "text": [
      "    math  eng  music  gym\n",
      "서준    90   98     85  100\n",
      "우현    80   89     95   90\n",
      "    math  eng  music  gym\n",
      "서준    90   98     85  100\n",
      "우현    80   89     95   90\n"
     ]
    }
   ],
   "source": [
    "exam_data = {\"math\": [90, 80, 70], \"eng\": [98, 89, 95],\n",
    "            \"music\": [85, 95, 100], \"gym\": [100, 90, 90]}\n",
    "df = pd.DataFrame(exam_data, index=[\"서준\", \"우현\", \"민아\"])\n",
    "label = df.loc[[\"서준\", \"우현\"]]\n",
    "position = df.iloc[[0,1]]\n",
    "print(label)\n",
    "print(position)"
   ]
  },
  {
   "cell_type": "code",
   "execution_count": 14,
   "id": "official-matter",
   "metadata": {},
   "outputs": [
    {
     "name": "stdout",
     "output_type": "stream",
     "text": [
      "   이름  수학  영어   음악   체육\n",
      "0  서준  90  98   85  100\n",
      "1  우현  80  89   95   90\n",
      "2  민지  70  95  100   90\n",
      "\n",
      "\n",
      "0    90\n",
      "1    80\n",
      "2    70\n",
      "Name: 수학, dtype: int64\n",
      "\n",
      "\n",
      "0    98\n",
      "1    89\n",
      "2    95\n",
      "Name: 영어, dtype: int64\n",
      "\n",
      "\n",
      "    음악   체육\n",
      "0   85  100\n",
      "1   95   90\n",
      "2  100   90\n",
      "\n",
      "\n"
     ]
    }
   ],
   "source": [
    "exam_data = {\"이름\": [\"서준\", \"우현\", \"민지\"],\n",
    "             \"수학\": [90, 80, 70],\n",
    "             \"영어\": [98, 89, 95], \n",
    "             \"음악\": [85, 95, 100], \n",
    "             \"체육\": [100, 90, 90]}\n",
    "df = pd.DataFrame(exam_data)\n",
    "print(df)\n",
    "print(\"\\n\")\n",
    "math1 = df[\"수학\"]\n",
    "print(math1)\n",
    "print(\"\\n\")\n",
    "english = df[\"영어\"]\n",
    "print(english)\n",
    "print(\"\\n\")\n",
    "music_gym = df[[\"음악\", \"체육\"]]\n",
    "print(music_gym)\n",
    "print(\"\\n\")"
   ]
  },
  {
   "cell_type": "code",
   "execution_count": 17,
   "id": "secret-waterproof",
   "metadata": {},
   "outputs": [
    {
     "name": "stdout",
     "output_type": "stream",
     "text": [
      "   이름  수학  영어   음악   체육\n",
      "0  서준  90  98   85  100\n",
      "1  우현  80  89   95   90\n",
      "2  민지  70  95  100   90\n",
      "3   0   0   0    0    0\n",
      "   이름  수학  영어   음악   체육\n",
      "0  서준  90  98   85  100\n",
      "1  우현  80  89   95   90\n",
      "2  민지  70  95  100   90\n",
      "3   0   0   0    0    0\n",
      "4  동규  90  80   70   60\n",
      "    이름  수학  영어   음악   체육\n",
      "0   서준  90  98   85  100\n",
      "1   우현  80  89   95   90\n",
      "2   민지  70  95  100   90\n",
      "3    0   0   0    0    0\n",
      "4   동규  90  80   70   60\n",
      "행5   0   0   0    0    0\n",
      "    수학  영어   음악   체육\n",
      "이름                  \n",
      "서준  90  98   85  100\n",
      "우현  80  89   95   90\n",
      "민지  70  95  100   90\n",
      "0    0   0    0    0\n",
      "동규  90  80   70   60\n",
      "0    0   0    0    0\n",
      "     이름  수학  영어   체육\n",
      "음악                  \n",
      "85   서준  90  98  100\n",
      "95   우현  80  89   90\n",
      "100  민지  70  95   90\n",
      "0     0   0   0    0\n",
      "70   동규  90  80   60\n",
      "0     0   0   0    0\n",
      "        이름  영어   체육\n",
      "수학 음악              \n",
      "90 85   서준  98  100\n",
      "80 95   우현  89   90\n",
      "70 100  민지  95   90\n",
      "0  0     0   0    0\n",
      "90 70   동규  80   60\n",
      "0  0     0   0    0\n"
     ]
    }
   ],
   "source": [
    "exam_data = {\"이름\": [\"서준\", \"우현\", \"민지\"],\n",
    "             \"수학\": [90, 80, 70],\n",
    "             \"영어\": [98, 89, 95], \n",
    "             \"음악\": [85, 95, 100], \n",
    "             \"체육\": [100, 90, 90]}\n",
    "df = pd.DataFrame(exam_data)\n",
    "df.loc[3] = 0\n",
    "print(df)\n",
    "df.loc[4] = [\"동규\", 90, 80, 70, 60]\n",
    "print(df)\n",
    "df.loc[\"행5\"] = df.loc[3]\n",
    "print(df)\n",
    "ndf = df.set_index([\"이름\"])\n",
    "print(ndf)\n",
    "ndf2 = df.set_index(\"음악\")\n",
    "print(ndf2)\n",
    "ndf3 = df.set_index([\"수학\", \"음악\"])\n",
    "print(ndf3)"
   ]
  },
  {
   "cell_type": "code",
   "execution_count": 21,
   "id": "monetary-outdoors",
   "metadata": {},
   "outputs": [
    {
     "name": "stdout",
     "output_type": "stream",
     "text": [
      "    c0  c1  c2  c3  c4\n",
      "r0   1   4   7  10  13\n",
      "r1   2   5   8  11  14\n",
      "r2   3   6   9  12  15\n",
      "  index  c0  c1  c2  c3  c4\n",
      "0    r0   1   4   7  10  13\n",
      "1    r1   2   5   8  11  14\n",
      "2    r2   3   6   9  12  15\n",
      "    c0  c1  c2  c3  c4\n",
      "r2   3   6   9  12  15\n",
      "r1   2   5   8  11  14\n",
      "r0   1   4   7  10  13\n"
     ]
    },
    {
     "ename": "TypeError",
     "evalue": "sort_values() got an unexpected keyword argument 'ny'",
     "output_type": "error",
     "traceback": [
      "\u001b[1;31m---------------------------------------------------------------------------\u001b[0m",
      "\u001b[1;31mTypeError\u001b[0m                                 Traceback (most recent call last)",
      "\u001b[1;32m<ipython-input-21-0673f65fff28>\u001b[0m in \u001b[0;36m<module>\u001b[1;34m\u001b[0m\n\u001b[0;32m      6\u001b[0m \u001b[0mndf2\u001b[0m \u001b[1;33m=\u001b[0m \u001b[0mdf\u001b[0m\u001b[1;33m.\u001b[0m\u001b[0msort_index\u001b[0m\u001b[1;33m(\u001b[0m\u001b[0mascending\u001b[0m\u001b[1;33m=\u001b[0m\u001b[1;32mFalse\u001b[0m\u001b[1;33m)\u001b[0m\u001b[1;33m\u001b[0m\u001b[1;33m\u001b[0m\u001b[0m\n\u001b[0;32m      7\u001b[0m \u001b[0mprint\u001b[0m\u001b[1;33m(\u001b[0m\u001b[0mndf2\u001b[0m\u001b[1;33m)\u001b[0m\u001b[1;33m\u001b[0m\u001b[1;33m\u001b[0m\u001b[0m\n\u001b[1;32m----> 8\u001b[1;33m \u001b[0mndf3\u001b[0m \u001b[1;33m=\u001b[0m \u001b[0mdf\u001b[0m\u001b[1;33m.\u001b[0m\u001b[0msort_values\u001b[0m\u001b[1;33m(\u001b[0m\u001b[0mny\u001b[0m\u001b[1;33m=\u001b[0m\u001b[1;34m\"c1\"\u001b[0m\u001b[1;33m,\u001b[0m \u001b[0mascending\u001b[0m\u001b[1;33m=\u001b[0m\u001b[1;32mFalse\u001b[0m\u001b[1;33m)\u001b[0m\u001b[1;33m\u001b[0m\u001b[1;33m\u001b[0m\u001b[0m\n\u001b[0m\u001b[0;32m      9\u001b[0m \u001b[0mprint\u001b[0m\u001b[1;33m(\u001b[0m\u001b[0mndf3\u001b[0m\u001b[1;33m)\u001b[0m\u001b[1;33m\u001b[0m\u001b[1;33m\u001b[0m\u001b[0m\n",
      "\u001b[1;31mTypeError\u001b[0m: sort_values() got an unexpected keyword argument 'ny'"
     ]
    }
   ],
   "source": [
    "dict_data = {\"c0\": [1, 2, 3], \"c1\": [4, 5, 6], \"c2\": [7, 8, 9], \"c3\": [10, 11, 12], \"c4\": [13, 14, 15]}\n",
    "df = pd.DataFrame(dict_data, index = [\"r0\", \"r1\", \"r2\"])\n",
    "print(df)\n",
    "ndf = df.reset_index()\n",
    "print(ndf)\n",
    "ndf2 = df.sort_index(ascending=False)\n",
    "print(ndf2)\n",
    "ndf3 = df.sort_values(ny=\"c1\", ascending=False)\n",
    "print(ndf3)"
   ]
  },
  {
   "cell_type": "code",
   "execution_count": 23,
   "id": "surrounded-monaco",
   "metadata": {},
   "outputs": [
    {
     "name": "stdout",
     "output_type": "stream",
     "text": [
      "국어    0.50\n",
      "영어    0.40\n",
      "수학    0.45\n",
      "dtype: float64\n"
     ]
    }
   ],
   "source": [
    "student = pd.Series({\"국어\":100, \"영어\":80, \"수학\":90})\n",
    "percentage = student/200\n",
    "print(percentage)"
   ]
  },
  {
   "cell_type": "code",
   "execution_count": 25,
   "id": "satellite-spirituality",
   "metadata": {},
   "outputs": [
    {
     "name": "stdout",
     "output_type": "stream",
     "text": [
      "     국어   수학   영어\n",
      "덧셈  180  170  170\n",
      "뺄셈   20   10  -10\n"
     ]
    }
   ],
   "source": [
    "student1 = pd.Series({\"국어\":100, \"영어\":80, \"수학\":90})\n",
    "student2 = pd.Series({\"수학\":80, \"영어\":90, \"국어\":80})\n",
    "addition = student1 + student2\n",
    "subtraction = student1 - student2\n",
    "result = pd.DataFrame([addition, subtraction], index=[\"덧셈\", \"뺄셈\"])\n",
    "print(result)"
   ]
  },
  {
   "cell_type": "code",
   "execution_count": 28,
   "id": "concrete-surface",
   "metadata": {},
   "outputs": [
    {
     "name": "stdout",
     "output_type": "stream",
     "text": [
      "    국어     수학  영어\n",
      "덧셈 NaN  170.0 NaN\n",
      "뺄셈 NaN   10.0 NaN\n"
     ]
    }
   ],
   "source": [
    "student1 = pd.Series({\"국어\":np.nan, \"영어\":80, \"수학\":90})\n",
    "student2 = pd.Series({\"수학\":80, \"국어\":90})\n",
    "addition = student1 + student2\n",
    "subtraction = student1 - student2\n",
    "result = pd.DataFrame([addition, subtraction], index=[\"덧셈\", \"뺄셈\"])\n",
    "print(result)"
   ]
  },
  {
   "cell_type": "code",
   "execution_count": 29,
   "id": "banned-baseball",
   "metadata": {},
   "outputs": [
    {
     "name": "stdout",
     "output_type": "stream",
     "text": [
      "      국어     수학    영어\n",
      "덧셈  90.0  170.0  80.0\n"
     ]
    }
   ],
   "source": [
    "student1 = pd.Series({\"국어\":np.nan, \"영어\":80, \"수학\":90})\n",
    "student2 = pd.Series({\"수학\":80, \"국어\":90})\n",
    "sr_add = student1.add(student2, fill_value = 0)\n",
    "result = pd.DataFrame([sr_add], index=[\"덧셈\"])\n",
    "print(result)"
   ]
  },
  {
   "cell_type": "code",
   "execution_count": 30,
   "id": "voluntary-cursor",
   "metadata": {},
   "outputs": [],
   "source": [
    "import seaborn as sns"
   ]
  },
  {
   "cell_type": "code",
   "execution_count": 32,
   "id": "liberal-baltimore",
   "metadata": {},
   "outputs": [
    {
     "name": "stdout",
     "output_type": "stream",
     "text": [
      "<bound method NDFrame.head of       age     fare\n",
      "0    22.0   7.2500\n",
      "1    38.0  71.2833\n",
      "2    26.0   7.9250\n",
      "3    35.0  53.1000\n",
      "4    35.0   8.0500\n",
      "..    ...      ...\n",
      "886  27.0  13.0000\n",
      "887  19.0  30.0000\n",
      "888   NaN  23.4500\n",
      "889  26.0  30.0000\n",
      "890  32.0   7.7500\n",
      "\n",
      "[891 rows x 2 columns]>\n",
      "\n",
      "\n",
      "    age     fare\n",
      "0  32.0  17.2500\n",
      "1  48.0  81.2833\n",
      "2  36.0  17.9250\n",
      "3  45.0  63.1000\n",
      "4  45.0  18.0500\n",
      "      age  fare\n",
      "886  10.0  10.0\n",
      "887  10.0  10.0\n",
      "888   NaN  10.0\n",
      "889  10.0  10.0\n",
      "890  10.0  10.0\n"
     ]
    }
   ],
   "source": [
    "titanic = sns.load_dataset(\"titanic\")\n",
    "df = titanic.loc[:, [\"age\", \"fare\"]]\n",
    "print(df.head)\n",
    "print(\"\\n\")\n",
    "add = df+10\n",
    "print(add.head())\n",
    "subtraction = add - df\n",
    "print(subtraction.tail())"
   ]
  },
  {
   "cell_type": "code",
   "execution_count": null,
   "id": "korean-harrison",
   "metadata": {},
   "outputs": [],
   "source": []
  }
 ],
 "metadata": {
  "kernelspec": {
   "display_name": "Python 3",
   "language": "python",
   "name": "python3"
  },
  "language_info": {
   "codemirror_mode": {
    "name": "ipython",
    "version": 3
   },
   "file_extension": ".py",
   "mimetype": "text/x-python",
   "name": "python",
   "nbconvert_exporter": "python",
   "pygments_lexer": "ipython3",
   "version": "3.8.8"
  }
 },
 "nbformat": 4,
 "nbformat_minor": 5
}
