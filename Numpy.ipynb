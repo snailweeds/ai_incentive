{
 "cells": [
  {
   "cell_type": "code",
   "execution_count": 1,
   "id": "optimum-syria",
   "metadata": {},
   "outputs": [],
   "source": [
    "import numpy as np"
   ]
  },
  {
   "cell_type": "code",
   "execution_count": 2,
   "id": "fancy-casino",
   "metadata": {},
   "outputs": [
    {
     "data": {
      "text/plain": [
       "array([1, 4, 2, 5])"
      ]
     },
     "execution_count": 2,
     "metadata": {},
     "output_type": "execute_result"
    }
   ],
   "source": [
    "np.array([1, 4, 2, 5])"
   ]
  },
  {
   "cell_type": "code",
   "execution_count": 3,
   "id": "latin-clear",
   "metadata": {},
   "outputs": [
    {
     "data": {
      "text/plain": [
       "array([1, 4, 2, 5])"
      ]
     },
     "execution_count": 3,
     "metadata": {},
     "output_type": "execute_result"
    }
   ],
   "source": [
    "np.array([1, 4, 2.5, 5], dtype = \"int\")"
   ]
  },
  {
   "cell_type": "code",
   "execution_count": 4,
   "id": "critical-database",
   "metadata": {},
   "outputs": [
    {
     "data": {
      "text/plain": [
       "array(['1', 'a', '2.5'], dtype='<U11')"
      ]
     },
     "execution_count": 4,
     "metadata": {},
     "output_type": "execute_result"
    }
   ],
   "source": [
    "np.array([1, \"a\", 2.5])"
   ]
  },
  {
   "cell_type": "code",
   "execution_count": 5,
   "id": "selected-greenhouse",
   "metadata": {},
   "outputs": [
    {
     "data": {
      "text/plain": [
       "array([[1, 2, 3],\n",
       "       [4, 5, 6],\n",
       "       [7, 8, 9]])"
      ]
     },
     "execution_count": 5,
     "metadata": {},
     "output_type": "execute_result"
    }
   ],
   "source": [
    "np.array([[1, 2, 3], [4, 5, 6], [7, 8, 9]])"
   ]
  },
  {
   "cell_type": "code",
   "execution_count": 6,
   "id": "valued-journalist",
   "metadata": {},
   "outputs": [
    {
     "data": {
      "text/plain": [
       "array(['', '', '', '', '', '', '', '', '', ''], dtype='<U1')"
      ]
     },
     "execution_count": 6,
     "metadata": {},
     "output_type": "execute_result"
    }
   ],
   "source": [
    "np.zeros(10, dtype=\"str\")"
   ]
  },
  {
   "cell_type": "code",
   "execution_count": 7,
   "id": "indonesian-cooler",
   "metadata": {},
   "outputs": [
    {
     "data": {
      "text/plain": [
       "array([[0, 0, 0],\n",
       "       [0, 0, 0]])"
      ]
     },
     "execution_count": 7,
     "metadata": {},
     "output_type": "execute_result"
    }
   ],
   "source": [
    "np.zeros((2, 3), dtype=\"int\")"
   ]
  },
  {
   "cell_type": "code",
   "execution_count": 8,
   "id": "prime-shield",
   "metadata": {},
   "outputs": [
    {
     "data": {
      "text/plain": [
       "array([1, 1, 1, 1, 1, 1, 1, 1, 1, 1])"
      ]
     },
     "execution_count": 8,
     "metadata": {},
     "output_type": "execute_result"
    }
   ],
   "source": [
    "np.ones(10, dtype=\"int\")"
   ]
  },
  {
   "cell_type": "code",
   "execution_count": 9,
   "id": "trained-antique",
   "metadata": {},
   "outputs": [
    {
     "data": {
      "text/plain": [
       "array([[1, 1],\n",
       "       [1, 1],\n",
       "       [1, 1]])"
      ]
     },
     "execution_count": 9,
     "metadata": {},
     "output_type": "execute_result"
    }
   ],
   "source": [
    "np.ones((3, 2), dtype=\"int\")"
   ]
  },
  {
   "cell_type": "code",
   "execution_count": 11,
   "id": "floating-needle",
   "metadata": {},
   "outputs": [
    {
     "data": {
      "text/plain": [
       "array([[3.14, 3.14, 3.14, 3.14, 3.14],\n",
       "       [3.14, 3.14, 3.14, 3.14, 3.14],\n",
       "       [3.14, 3.14, 3.14, 3.14, 3.14]])"
      ]
     },
     "execution_count": 11,
     "metadata": {},
     "output_type": "execute_result"
    }
   ],
   "source": [
    "np.full((3, 5), 3.14)"
   ]
  },
  {
   "cell_type": "code",
   "execution_count": 12,
   "id": "listed-editor",
   "metadata": {},
   "outputs": [
    {
     "data": {
      "text/plain": [
       "array([ 0,  1,  2,  3,  4,  5,  6,  7,  8,  9, 10, 11, 12, 13, 14, 15, 16,\n",
       "       17, 18, 19])"
      ]
     },
     "execution_count": 12,
     "metadata": {},
     "output_type": "execute_result"
    }
   ],
   "source": [
    "np.arange(0, 20)"
   ]
  },
  {
   "cell_type": "code",
   "execution_count": 13,
   "id": "convenient-aerospace",
   "metadata": {},
   "outputs": [
    {
     "data": {
      "text/plain": [
       "array([ 0,  2,  4,  6,  8, 10, 12, 14, 16, 18])"
      ]
     },
     "execution_count": 13,
     "metadata": {},
     "output_type": "execute_result"
    }
   ],
   "source": [
    "np.arange(0, 20, 2)"
   ]
  },
  {
   "cell_type": "code",
   "execution_count": 15,
   "id": "detected-blank",
   "metadata": {},
   "outputs": [
    {
     "data": {
      "text/plain": [
       "array([100,  90,  80,  70,  60,  50,  40,  30,  20,  10])"
      ]
     },
     "execution_count": 15,
     "metadata": {},
     "output_type": "execute_result"
    }
   ],
   "source": [
    "np.arange(100, 0, -10)"
   ]
  },
  {
   "cell_type": "code",
   "execution_count": 16,
   "id": "tribal-fabric",
   "metadata": {},
   "outputs": [
    {
     "data": {
      "text/plain": [
       "array([0.  , 0.25, 0.5 , 0.75, 1.  ])"
      ]
     },
     "execution_count": 16,
     "metadata": {},
     "output_type": "execute_result"
    }
   ],
   "source": [
    "np.linspace(0, 1, 5)"
   ]
  },
  {
   "cell_type": "code",
   "execution_count": 17,
   "id": "mounted-muscle",
   "metadata": {},
   "outputs": [
    {
     "data": {
      "text/plain": [
       "array([0.07504514, 0.08103599, 0.16663522, 0.17574925, 0.72584399,\n",
       "       0.70347807, 0.18187484, 0.39343619, 0.34006714, 0.55541026])"
      ]
     },
     "execution_count": 17,
     "metadata": {},
     "output_type": "execute_result"
    }
   ],
   "source": [
    "np.random.random(10)"
   ]
  },
  {
   "cell_type": "code",
   "execution_count": 18,
   "id": "chronic-cooler",
   "metadata": {},
   "outputs": [
    {
     "data": {
      "text/plain": [
       "array([[0.47926725, 0.13886673, 0.22409063],\n",
       "       [0.05372603, 0.86661927, 0.94016224],\n",
       "       [0.1876893 , 0.92506926, 0.34516616]])"
      ]
     },
     "execution_count": 18,
     "metadata": {},
     "output_type": "execute_result"
    }
   ],
   "source": [
    "np.random.random((3, 3))"
   ]
  },
  {
   "cell_type": "code",
   "execution_count": 19,
   "id": "fallen-sucking",
   "metadata": {},
   "outputs": [
    {
     "data": {
      "text/plain": [
       "array([ 6434.45445762, 10069.2715859 , 11369.00368374,  8564.29403495,\n",
       "        7792.56198112, 10093.46387969, 11217.51986018,  9286.92042751,\n",
       "       12201.37698655,  9249.0146058 ])"
      ]
     },
     "execution_count": 19,
     "metadata": {},
     "output_type": "execute_result"
    }
   ],
   "source": [
    "np.random.normal(10000, 2000, 10) # 편차:2000"
   ]
  },
  {
   "cell_type": "code",
   "execution_count": 20,
   "id": "elder-bidding",
   "metadata": {},
   "outputs": [
    {
     "data": {
      "text/plain": [
       "array([[ 9501.02362281,  7578.69194667,  9051.7312112 ],\n",
       "       [10946.2648015 , 10952.05293111,  9003.60486139],\n",
       "       [10612.29665569, 12301.80360439,  8816.77377757]])"
      ]
     },
     "execution_count": 20,
     "metadata": {},
     "output_type": "execute_result"
    }
   ],
   "source": [
    "np.random.normal(10000, 2000, (3, 3))"
   ]
  },
  {
   "cell_type": "code",
   "execution_count": 22,
   "id": "radio-engagement",
   "metadata": {},
   "outputs": [
    {
     "data": {
      "text/plain": [
       "array([ 0.13768141, -0.04164046, -1.38980237, -1.70729794,  0.21273606,\n",
       "        0.95176997,  1.13012421, -1.79966185,  2.24081799, -0.25421059])"
      ]
     },
     "execution_count": 22,
     "metadata": {},
     "output_type": "execute_result"
    }
   ],
   "source": [
    "np.random.normal(0, 1, 10)"
   ]
  },
  {
   "cell_type": "code",
   "execution_count": 23,
   "id": "played-discretion",
   "metadata": {},
   "outputs": [
    {
     "data": {
      "text/plain": [
       "array([[31, 11,  2, 16, 17, 17],\n",
       "       [19,  3, 21, 30, 28, 11],\n",
       "       [29,  9,  1, 23,  3,  7],\n",
       "       [19, 26, 17, 16, 28, 19],\n",
       "       [14, 33, 23, 34, 15, 23]])"
      ]
     },
     "execution_count": 23,
     "metadata": {},
     "output_type": "execute_result"
    }
   ],
   "source": [
    "np.random.randint(1, 37, (5, 6))"
   ]
  },
  {
   "cell_type": "code",
   "execution_count": 29,
   "id": "visible-oracle",
   "metadata": {},
   "outputs": [],
   "source": [
    "x = np.arange(1, 11)\n",
    "y = np.arange(11, 21)"
   ]
  },
  {
   "cell_type": "code",
   "execution_count": 30,
   "id": "prospective-declaration",
   "metadata": {},
   "outputs": [
    {
     "data": {
      "text/plain": [
       "array([12, 14, 16, 18, 20, 22, 24, 26, 28, 30])"
      ]
     },
     "execution_count": 30,
     "metadata": {},
     "output_type": "execute_result"
    }
   ],
   "source": [
    "x+y"
   ]
  },
  {
   "cell_type": "code",
   "execution_count": 31,
   "id": "developing-river",
   "metadata": {},
   "outputs": [
    {
     "data": {
      "text/plain": [
       "array([ 3,  4,  5,  6,  7,  8,  9, 10, 11, 12])"
      ]
     },
     "execution_count": 31,
     "metadata": {},
     "output_type": "execute_result"
    }
   ],
   "source": [
    "np.add(x, 2)"
   ]
  },
  {
   "cell_type": "code",
   "execution_count": 32,
   "id": "curious-preserve",
   "metadata": {},
   "outputs": [
    {
     "data": {
      "text/plain": [
       "array([   2.,    4.,    8.,   16.,   32.,   64.,  128.,  256.,  512.,\n",
       "       1024.])"
      ]
     },
     "execution_count": 32,
     "metadata": {},
     "output_type": "execute_result"
    }
   ],
   "source": [
    "np.exp2(x)"
   ]
  },
  {
   "cell_type": "code",
   "execution_count": 33,
   "id": "compact-antique",
   "metadata": {},
   "outputs": [
    {
     "data": {
      "text/plain": [
       "array([         11,         144,        2197,       38416,      759375,\n",
       "          16777216,   410338673, -1864941312,   565150579,   797966336],\n",
       "      dtype=int32)"
      ]
     },
     "execution_count": 33,
     "metadata": {},
     "output_type": "execute_result"
    }
   ],
   "source": [
    "np.power(y, x)"
   ]
  },
  {
   "cell_type": "code",
   "execution_count": 34,
   "id": "humanitarian-adult",
   "metadata": {},
   "outputs": [
    {
     "data": {
      "text/plain": [
       "array([    3,     9,    27,    81,   243,   729,  2187,  6561, 19683,\n",
       "       59049], dtype=int32)"
      ]
     },
     "execution_count": 34,
     "metadata": {},
     "output_type": "execute_result"
    }
   ],
   "source": [
    "np.power(3, x)"
   ]
  },
  {
   "cell_type": "code",
   "execution_count": 35,
   "id": "racial-buffer",
   "metadata": {},
   "outputs": [
    {
     "data": {
      "text/plain": [
       "array([0.        , 0.69314718, 1.09861229, 1.38629436, 1.60943791,\n",
       "       1.79175947, 1.94591015, 2.07944154, 2.19722458, 2.30258509])"
      ]
     },
     "execution_count": 35,
     "metadata": {},
     "output_type": "execute_result"
    }
   ],
   "source": [
    "np.log(x)"
   ]
  },
  {
   "cell_type": "code",
   "execution_count": 45,
   "id": "invisible-restriction",
   "metadata": {},
   "outputs": [],
   "source": [
    "x = np.array([70, 80, 100, 90, 80], dtype = \"int64\")"
   ]
  },
  {
   "cell_type": "code",
   "execution_count": 46,
   "id": "wrong-thing",
   "metadata": {},
   "outputs": [
    {
     "data": {
      "text/plain": [
       "420"
      ]
     },
     "execution_count": 46,
     "metadata": {},
     "output_type": "execute_result"
    }
   ],
   "source": [
    "x.sum()"
   ]
  },
  {
   "cell_type": "code",
   "execution_count": 47,
   "id": "present-summit",
   "metadata": {},
   "outputs": [
    {
     "data": {
      "text/plain": [
       "420"
      ]
     },
     "execution_count": 47,
     "metadata": {},
     "output_type": "execute_result"
    }
   ],
   "source": [
    "np.sum(x)"
   ]
  },
  {
   "cell_type": "code",
   "execution_count": 48,
   "id": "authentic-house",
   "metadata": {},
   "outputs": [
    {
     "data": {
      "text/plain": [
       "4032000000"
      ]
     },
     "execution_count": 48,
     "metadata": {},
     "output_type": "execute_result"
    }
   ],
   "source": [
    "np.prod(x)"
   ]
  },
  {
   "cell_type": "code",
   "execution_count": 49,
   "id": "accepted-humanitarian",
   "metadata": {},
   "outputs": [
    {
     "data": {
      "text/plain": [
       "84.0"
      ]
     },
     "execution_count": 49,
     "metadata": {},
     "output_type": "execute_result"
    }
   ],
   "source": [
    "np.mean(x)"
   ]
  },
  {
   "cell_type": "code",
   "execution_count": 50,
   "id": "affecting-colonial",
   "metadata": {},
   "outputs": [
    {
     "data": {
      "text/plain": [
       "10.198039027185569"
      ]
     },
     "execution_count": 50,
     "metadata": {},
     "output_type": "execute_result"
    }
   ],
   "source": [
    "np.std(x)"
   ]
  },
  {
   "cell_type": "code",
   "execution_count": 51,
   "id": "placed-german",
   "metadata": {},
   "outputs": [
    {
     "data": {
      "text/plain": [
       "100"
      ]
     },
     "execution_count": 51,
     "metadata": {},
     "output_type": "execute_result"
    }
   ],
   "source": [
    "np.max(x)"
   ]
  },
  {
   "cell_type": "code",
   "execution_count": 52,
   "id": "satellite-biology",
   "metadata": {},
   "outputs": [
    {
     "data": {
      "text/plain": [
       "2"
      ]
     },
     "execution_count": 52,
     "metadata": {},
     "output_type": "execute_result"
    }
   ],
   "source": [
    "np.argmax(x) # 최대값의 위치; x[2]=100"
   ]
  },
  {
   "cell_type": "code",
   "execution_count": 53,
   "id": "excessive-virgin",
   "metadata": {},
   "outputs": [
    {
     "data": {
      "text/plain": [
       "80.0"
      ]
     },
     "execution_count": 53,
     "metadata": {},
     "output_type": "execute_result"
    }
   ],
   "source": [
    "np.median(x)"
   ]
  },
  {
   "cell_type": "code",
   "execution_count": 54,
   "id": "oriented-upgrade",
   "metadata": {},
   "outputs": [
    {
     "data": {
      "text/plain": [
       "80.0"
      ]
     },
     "execution_count": 54,
     "metadata": {},
     "output_type": "execute_result"
    }
   ],
   "source": [
    "np.percentile(x, 25)"
   ]
  },
  {
   "cell_type": "code",
   "execution_count": 56,
   "id": "given-values",
   "metadata": {},
   "outputs": [],
   "source": [
    "x = np.random.randint(1, 10, (3, 3))\n",
    "y = np.random.randint(1, 4, 3)"
   ]
  },
  {
   "cell_type": "code",
   "execution_count": 57,
   "id": "frozen-pride",
   "metadata": {},
   "outputs": [
    {
     "data": {
      "text/plain": [
       "array([[ 7, 11,  5],\n",
       "       [ 7,  8,  9],\n",
       "       [ 7,  7,  5]])"
      ]
     },
     "execution_count": 57,
     "metadata": {},
     "output_type": "execute_result"
    }
   ],
   "source": [
    "x+y"
   ]
  },
  {
   "cell_type": "code",
   "execution_count": 58,
   "id": "usual-evening",
   "metadata": {},
   "outputs": [
    {
     "data": {
      "text/plain": [
       "7"
      ]
     },
     "execution_count": 58,
     "metadata": {},
     "output_type": "execute_result"
    }
   ],
   "source": [
    "np.sum(x<6)"
   ]
  },
  {
   "cell_type": "code",
   "execution_count": 59,
   "id": "hispanic-coordination",
   "metadata": {},
   "outputs": [
    {
     "data": {
      "text/plain": [
       "array([17, 18, 13])"
      ]
     },
     "execution_count": 59,
     "metadata": {},
     "output_type": "execute_result"
    }
   ],
   "source": [
    "np.sum(x, axis=1)"
   ]
  },
  {
   "cell_type": "code",
   "execution_count": 60,
   "id": "searching-grant",
   "metadata": {},
   "outputs": [
    {
     "data": {
      "text/plain": [
       "array([15, 17, 16])"
      ]
     },
     "execution_count": 60,
     "metadata": {},
     "output_type": "execute_result"
    }
   ],
   "source": [
    "np.sum(x, axis=0)"
   ]
  },
  {
   "cell_type": "code",
   "execution_count": 61,
   "id": "distinguished-seminar",
   "metadata": {},
   "outputs": [
    {
     "data": {
      "text/plain": [
       "True"
      ]
     },
     "execution_count": 61,
     "metadata": {},
     "output_type": "execute_result"
    }
   ],
   "source": [
    "np.any(x>6)"
   ]
  },
  {
   "cell_type": "code",
   "execution_count": 62,
   "id": "flush-baking",
   "metadata": {},
   "outputs": [
    {
     "data": {
      "text/plain": [
       "False"
      ]
     },
     "execution_count": 62,
     "metadata": {},
     "output_type": "execute_result"
    }
   ],
   "source": [
    "np.all(x>8)"
   ]
  },
  {
   "cell_type": "code",
   "execution_count": 64,
   "id": "commercial-relations",
   "metadata": {},
   "outputs": [
    {
     "data": {
      "text/plain": [
       "0.2222222222222222"
      ]
     },
     "execution_count": 64,
     "metadata": {},
     "output_type": "execute_result"
    }
   ],
   "source": [
    "np.mean(x>7)"
   ]
  },
  {
   "cell_type": "code",
   "execution_count": 65,
   "id": "experienced-journey",
   "metadata": {},
   "outputs": [
    {
     "data": {
      "text/plain": [
       "array([[5, 8, 4],\n",
       "       [5, 5, 8],\n",
       "       [5, 4, 4]])"
      ]
     },
     "execution_count": 65,
     "metadata": {},
     "output_type": "execute_result"
    }
   ],
   "source": [
    "x"
   ]
  },
  {
   "cell_type": "code",
   "execution_count": 66,
   "id": "formal-official",
   "metadata": {},
   "outputs": [
    {
     "data": {
      "text/plain": [
       "array([4, 4, 4])"
      ]
     },
     "execution_count": 66,
     "metadata": {},
     "output_type": "execute_result"
    }
   ],
   "source": [
    "x[x<5]"
   ]
  },
  {
   "cell_type": "code",
   "execution_count": 67,
   "id": "pending-jaguar",
   "metadata": {},
   "outputs": [
    {
     "data": {
      "text/plain": [
       "array([[False, False,  True],\n",
       "       [False, False, False],\n",
       "       [False,  True,  True]])"
      ]
     },
     "execution_count": 67,
     "metadata": {},
     "output_type": "execute_result"
    }
   ],
   "source": [
    "x<5"
   ]
  },
  {
   "cell_type": "code",
   "execution_count": 68,
   "id": "mounted-roommate",
   "metadata": {},
   "outputs": [
    {
     "data": {
      "text/plain": [
       "array([0.        , 0.33333333, 0.33333333])"
      ]
     },
     "execution_count": 68,
     "metadata": {},
     "output_type": "execute_result"
    }
   ],
   "source": [
    "np.mean(x>5, axis=0)"
   ]
  },
  {
   "cell_type": "code",
   "execution_count": null,
   "id": "accessible-frequency",
   "metadata": {},
   "outputs": [],
   "source": []
  }
 ],
 "metadata": {
  "kernelspec": {
   "display_name": "Python 3",
   "language": "python",
   "name": "python3"
  },
  "language_info": {
   "codemirror_mode": {
    "name": "ipython",
    "version": 3
   },
   "file_extension": ".py",
   "mimetype": "text/x-python",
   "name": "python",
   "nbconvert_exporter": "python",
   "pygments_lexer": "ipython3",
   "version": "3.8.8"
  }
 },
 "nbformat": 4,
 "nbformat_minor": 5
}
